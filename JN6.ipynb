{
 "cells": [
  {
   "attachments": {},
   "cell_type": "markdown",
   "metadata": {},
   "source": [
    "Задание 1"
   ]
  },
  {
   "cell_type": "code",
   "execution_count": 3,
   "metadata": {},
   "outputs": [
    {
     "name": "stdout",
     "output_type": "stream",
     "text": [
      "max_1_step: 1.4857142857142858\n",
      "max_2_step: 1.4615384615384615\n",
      "max_3_step: 2.967032967032967\n",
      "max_4_step: 3.5384615384615383\n",
      "max Z: 1.0\n"
     ]
    }
   ],
   "source": [
    "# функция качества хромосомы\n",
    "def qZ(x, y):\n",
    "    return (x - 3 * y + 1) / (3 * x ** 2 +3 * y ** 2 + 1)\n",
    "# сумма качества хромосом\n",
    "def qSumZ(Z):\n",
    "    return sum(Z)\n",
    "\n",
    "# запрограммируем схему обмена хромосомами:\n",
    "def exchangeScheme(oldX, oldY, sortedId):\n",
    "    x = [0 for i in range(4)]\n",
    "    y = [0 for i in range(4)]\n",
    "    \n",
    "    x[2] = oldX[sortedId[2]]\n",
    "    x[3] = oldX[sortedId[2]]\n",
    "    \n",
    "    x[0] = oldX[sortedId[0]]\n",
    "    \n",
    "    x[1] = oldX[sortedId[1]]\n",
    "    \n",
    "    y[0] = oldY[sortedId[2]]\n",
    "    y[1] = oldY[sortedId[2]]\n",
    "    \n",
    "    y[2] = oldY[sortedId[0]]\n",
    "    \n",
    "    y[3] = oldY[sortedId[1]]\n",
    "    \n",
    "    return x, y\n",
    "\n",
    "# Отсортируем массив качества наших потомков и выделим полученные индексы:\n",
    "def sorting(Z):\n",
    "    sortedId = sorted(range(len(Z)), key=lambda k: Z[k])\n",
    "    return sortedId\n",
    "\n",
    "# шаг эволюции\n",
    "def evoStep(x, y, z):\n",
    "    _, minId = min((value, id) for (id, value) in enumerate(z))\n",
    "    x = x[:]\n",
    "    y = y[:]\n",
    "    z = z[:]\n",
    "    \n",
    "    x.pop(minId)\n",
    "    y.pop(minId)\n",
    "    z.pop(minId)\n",
    "    \n",
    "    return x, y, z\n",
    "\n",
    "#шаги эволюции (конечная функция), по умолчанию 4 шага\n",
    "def evoSteps(x, y, steps_num=4):\n",
    "    results = []\n",
    "    \n",
    "    for i in range(steps_num):\n",
    "        arrZ = [qZ(k, y[i]) for i, k in enumerate(x)]\n",
    "        \n",
    "        x, y, z = evoStep(x, y, arrZ)\n",
    "        \n",
    "        x, y = exchangeScheme(x, y, sorting(z))\n",
    "        \n",
    "        results.append([x, y, qSumZ(arrZ), arrZ])\n",
    "    \n",
    "    return x, y, results\n",
    "\n",
    "#объявление массивов хромосом\n",
    "x = [-2, -1, 0, 1]\n",
    "y = [-2, -1, 0, 1]\n",
    "\n",
    "results = evoSteps(x, y)\n",
    "# показателя качества хромосомы в популяции\n",
    "for i in range(len(results[2])):\n",
    "    print(f'max_{i + 1}_step: {results[2][i][2]}')\n",
    "\n",
    "qualityArrZ = []\n",
    "for i in range(len(results[2])):\n",
    "    qualityArrZ += results[2][i][3]\n",
    "\n",
    "#общее качество популяции после четырех этапов эволюции\n",
    "\n",
    "print(f'max Z: {max(qualityArrZ)}')"
   ]
  },
  {
   "attachments": {},
   "cell_type": "markdown",
   "metadata": {},
   "source": [
    "Задание 2"
   ]
  },
  {
   "cell_type": "code",
   "execution_count": 32,
   "metadata": {},
   "outputs": [
    {
     "name": "stdout",
     "output_type": "stream",
     "text": [
      "iteration 1, S: 146\n",
      "iteration 2, S: 163\n",
      "iteration 3, S: 146\n",
      "iteration 4, S: 146\n",
      "Лучший выбранный маршрут: [1, 2, 3, 6, 4, 5, 1]\n",
      "Длина лучшего выбранного маршрута: 146\n",
      "Длины всех рассмотренных маршрутов: [146, 176, 163, 146, 176]\n"
     ]
    },
    {
     "data": {
      "text/plain": "<Figure size 640x480 with 1 Axes>",
      "image/png": "[encoded data removed]"
     },
     "metadata": {},
     "output_type": "display_data"
    }
   ],
   "source": [
    "import networkx as nx\n",
    "from math import e\n",
    "\n",
    "distances = [(1, 2, 26),\n",
    "            (1, 3, 42),\n",
    "            (1, 4, 44),\n",
    "            (1, 5, 31),\n",
    "            (1, 6, 24),\n",
    "            (2, 3, 20),\n",
    "            (2, 4, 34),\n",
    "            (2, 5, 40),\n",
    "            (2, 6, 15),\n",
    "            (3, 4, 23),\n",
    "            (3, 5, 43),\n",
    "            (3, 6, 20),\n",
    "            (4, 5, 27),\n",
    "            (4, 6, 22),\n",
    "            (5, 6, 26)] #длины рёбер\n",
    "\n",
    "V = [1, 2, 3, 4, 5, 6, 1] #последовательность прохождения маршрута\n",
    "\n",
    "Z = [(3, 4),\n",
    "    (4, 6),\n",
    "    (5, 6),\n",
    "    (6, 2)] #последовательность замен вершин\n",
    "\n",
    "P = [90, 45, 43, 31] #случайные числа, выпавшие в процессе счёта\n",
    "\n",
    "T = 100 #начальная температура\n",
    "\n",
    "#функция вероятности\n",
    "def probability(delta, T):\n",
    "    return 100 * e ** (-delta / T)\n",
    "\n",
    "#функция изменения температуры\n",
    "def reductTemp(prevT):\n",
    "    nextT = .5 * prevT\n",
    "    return nextT\n",
    "\n",
    "\n",
    "#вычисление длины ребра\n",
    "def edgeLength(i, j, distances, roundTrip=True):\n",
    "    if roundTrip:\n",
    "        return max([(item[2] if (item[0] == i and item[1] == j) or (item[1] == i and item[0] == j) else -1)\n",
    "                   for item in distances])\n",
    "    else:\n",
    "        return max([(item[2] if (item[0] == i and item[1] == j) else -1) for item in distances])\n",
    "\n",
    "#вычисление длины маршрута\n",
    "def routeLength(V, distances):\n",
    "    edges = []\n",
    "    \n",
    "    for i in range(len(V) - 1):\n",
    "        edges.append(edgeLength(V[i], V[i + 1], distances))\n",
    "    \n",
    "    return sum(edges)\n",
    "\n",
    "#одна перестановка в пути\n",
    "def routeOneReplacement(arrV, Z, replacementByName=True):\n",
    "    decrement = 1 if replacementByName else 0\n",
    "    \n",
    "    arrV[Z[0] - decrement], arrV[Z[1] - decrement] = arrV[Z[1] - decrement], arrV[Z[0] - decrement]\n",
    "    \n",
    "    return arrV\n",
    "\n",
    "#перестановка в пути\n",
    "def routeReplacement(V, Z):\n",
    "    for z in Z:\n",
    "        V = routeOneReplacement(V, z)\n",
    "    return V\n",
    "\n",
    "def chooseRoute(distances, V, Z, T, P):\n",
    "    sumLength = routeLength(V, distances)\n",
    "    arrSum = [sumLength]\n",
    "\n",
    "    for i in range(len(Z)):\n",
    "        newV = routeOneReplacement(V[:], Z[i])\n",
    "        newS = routeLength(newV, distances)\n",
    "        arrSum.append(newS)\n",
    "        deltaS = newS - sumLength\n",
    "\n",
    "        if deltaS > 0:\n",
    "            p = probability(deltaS, T)\n",
    "\n",
    "            if p > P[i]:\n",
    "                V = newV\n",
    "                sumLength = newS\n",
    "        else:\n",
    "            V = newV\n",
    "            sumLength = newS\n",
    "\n",
    "        T = reductTemp(T)\n",
    "\n",
    "        print(f\"iteration {i+1}, S: {sumLength}\")\n",
    "\n",
    "    return V, arrSum\n",
    "\n",
    "#отрисовка графа по заданному маршруту\n",
    "def drawRouteGraph(distances, bestRoute):\n",
    "    newDistances = []\n",
    "    #прохождение по вектору\n",
    "    for i in range(len(bestRoute) - 1):\n",
    "        for distance in distances:\n",
    "            if distance[0] == bestRoute[i] and distance[1] == bestRoute[i + 1] or distance[1] == bestRoute[i] and distance[0] == bestRoute[i + 1]:\n",
    "                newDistances.append(distance)\n",
    "    \n",
    "    graph = nx.Graph() #создание пустого графа\n",
    "    \n",
    "    graph.add_weighted_edges_from(newDistances) #добавление весов рёбер\n",
    "    nx.draw_networkx(graph, node_color='#fb7258', node_size=2000, with_labels=True) #отрисовка графа заданными вершинами\n",
    "    \n",
    "bestRoute, arrLength = chooseRoute(distances, V, Z, T, P)\n",
    "\n",
    "print(f'Лучший выбранный маршрут: {bestRoute}')\n",
    "print(f'Длина лучшего выбранного маршрута: {routeLength(bestRoute, distances)}')\n",
    "print(f'Длины всех рассмотренных маршрутов: {arrLength}')\n",
    "drawRouteGraph(distances, bestRoute) #отрисовка лучшего маршрута"
   ]
  },
  {
   "attachments": {},
   "cell_type": "markdown",
   "metadata": {},
   "source": [
    "Задание 3"
   ]
  },
  {
   "cell_type": "code",
   "execution_count": 33,
   "metadata": {},
   "outputs": [],
   "source": [
    "def chooseRouteDebug(distances, V, Z, T, P):\n",
    "    sumLength = routeLength(V, distances)\n",
    "    arrSum = [sumLength]\n",
    "\n",
    "    for i in range(len(Z)):\n",
    "        newV = routeOneReplacement(V[:], Z[i])\n",
    "        newS = routeLength(newV, distances)\n",
    "        arrSum.append(newS)\n",
    "        deltaS = newS - sumLength\n",
    "\n",
    "        if deltaS > 0:\n",
    "            p = probability(deltaS, T)\n",
    "\n",
    "            if p > P[i]:\n",
    "                V = newV\n",
    "                sumLength = newS\n",
    "        else:\n",
    "            V = newV\n",
    "            sumLength = newS\n",
    "        T = reductTemp(T)\n",
    "\n",
    "        print(f\"iteration {i+1}, S: {sumLength}\")\n",
    "\n",
    "    return V, arrSum"
   ]
  },
  {
   "cell_type": "code",
   "execution_count": 30,
   "outputs": [
    {
     "name": "stdout",
     "output_type": "stream",
     "text": [
      "iteration 1, S: 146\n",
      "iteration 2, S: 163\n",
      "iteration 3, S: 146\n",
      "iteration 4, S: 146\n"
     ]
    },
    {
     "data": {
      "text/plain": "([1, 2, 3, 6, 4, 5, 1], [146, 176, 163, 146, 176])"
     },
     "execution_count": 30,
     "metadata": {},
     "output_type": "execute_result"
    }
   ],
   "source": [
    "T = 100\n",
    "chooseRouteDebug(distances, V, Z, T, P)"
   ],
   "metadata": {
    "collapsed": false
   }
  },
  {
   "cell_type": "code",
   "execution_count": null,
   "outputs": [],
   "source": [],
   "metadata": {
    "collapsed": false
   }
  }
 ],
 "metadata": {
  "kernelspec": {
   "display_name": "base",
   "language": "python",
   "name": "python3"
  },
  "language_info": {
   "codemirror_mode": {
    "name": "ipython",
    "version": 3
   },
   "file_extension": ".py",
   "mimetype": "text/x-python",
   "name": "python",
   "nbconvert_exporter": "python",
   "pygments_lexer": "ipython3",
   "version": "3.9.13"
  },
  "orig_nbformat": 4,
  "vscode": {
   "interpreter": {
    "hash": "61582a2b21c6ded58499e0e70ad98823dc5c79760af704d98dd4a17654987531"
   }
  }
 },
 "nbformat": 4,
 "nbformat_minor": 2
}
